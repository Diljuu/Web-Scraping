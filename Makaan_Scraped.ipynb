{
  "nbformat": 4,
  "nbformat_minor": 0,
  "metadata": {
    "colab": {
      "name": "Makaan Scraped.ipynb",
      "provenance": [],
      "authorship_tag": "ABX9TyO8O8kAveOFl0+53mlHco0B",
      "include_colab_link": true
    },
    "kernelspec": {
      "name": "python3",
      "display_name": "Python 3"
    },
    "language_info": {
      "name": "python"
    }
  },
  "cells": [
    {
      "cell_type": "markdown",
      "metadata": {
        "id": "view-in-github",
        "colab_type": "text"
      },
      "source": [
        "<a href=\"https://colab.research.google.com/github/Diljuu/Web-Scraping/blob/main/Makaan_Scraped.ipynb\" target=\"_parent\"><img src=\"https://colab.research.google.com/assets/colab-badge.svg\" alt=\"Open In Colab\"/></a>"
      ]
    },
    {
      "cell_type": "code",
      "metadata": {
        "id": "LXO2hEgPN_tF"
      },
      "source": [
        "#import all the packags\n",
        "import requests\n",
        "from bs4 import BeautifulSoup\n",
        "import pandas"
      ],
      "execution_count": 1,
      "outputs": []
    },
    {
      "cell_type": "code",
      "metadata": {
        "id": "RZm32WaTGEWh"
      },
      "source": [
        "url = 'https://www.makaan.com/hyderabad-residential-property/buy-property-in-hyderabad-city'\n",
        "req = requests.get(url)\n",
        "soup = BeautifulSoup(req.text,'html')\n",
        "print (soup)"
      ],
      "execution_count": null,
      "outputs": []
    },
    {
      "cell_type": "code",
      "metadata": {
        "id": "LVqa7KqPGExL"
      },
      "source": [
        "own_info = soup.findAll('span',attrs={'class' : 'seller-type'})  #Owner info\n",
        "own_inf = [i.text.strip() for i in own_info]\n",
        "own_inf"
      ],
      "execution_count": null,
      "outputs": []
    },
    {
      "cell_type": "code",
      "metadata": {
        "id": "bbQ7n5T2Hd2H"
      },
      "source": [
        "Bhk=soup.findAll('div',attrs={'class' : 'title-line'})  #No of Bhk\n",
        "bhk_info=[i.strong.span.text.strip() for i in Bhk]\n",
        "bhk_info"
      ],
      "execution_count": null,
      "outputs": []
    },
    {
      "cell_type": "code",
      "metadata": {
        "id": "9ZI6UA_fHd5H"
      },
      "source": [
        "p_info = soup.findAll('div',attrs={'data-type' : 'price-link'}) #Price\n",
        "p_inf = [i.text.strip() for i in p_info ]\n",
        "p_inf"
      ],
      "execution_count": null,
      "outputs": []
    },
    {
      "cell_type": "code",
      "metadata": {
        "id": "gxotmYosHd-q"
      },
      "source": [
        "loc_info = soup.findAll('span',attrs={'itemprop' : 'addressLocality'})  # Locality\n",
        "loc_inf = [i.text.strip() for i in loc_info]\n",
        "loc_inf"
      ],
      "execution_count": null,
      "outputs": []
    },
    {
      "cell_type": "code",
      "metadata": {
        "id": "Dpx_dCZWG4IR"
      },
      "source": [
        "sqft_info = soup.findAll('td',attrs={'class' : 'size'})  # Square feet\n",
        "sqft_inf = [i.text.strip() for i in sqft_info]\n",
        "sqft_inf"
      ],
      "execution_count": null,
      "outputs": []
    },
    {
      "cell_type": "code",
      "metadata": {
        "id": "dEpKVhwnHRmy"
      },
      "source": [
        "cnstrctn_info = soup.findAll('td',attrs={'class' : 'val'})  # Construction Status\n",
        "cnstrctn_inf = [i.text.strip() for i in cnstrctn_info]\n",
        "cnstrctn_inf\n"
      ],
      "execution_count": null,
      "outputs": []
    },
    {
      "cell_type": "code",
      "metadata": {
        "id": "4wgJrFbBHRy2"
      },
      "source": [
        "p_psqft = soup.findAll('td',attrs={'class' : 'lbl rate'}) # Price per sqft\n",
        "p_psqf = [i.text.strip() for i in p_psqft]\n",
        "p_psqf"
      ],
      "execution_count": null,
      "outputs": []
    },
    {
      "cell_type": "code",
      "metadata": {
        "id": "hHdCZl14HeSN"
      },
      "source": [
        "data = pandas.DataFrame({'Owner Info' : own_inf,\n",
        "                         'No of Bhk' : bhk_info,\n",
        "                         'Price Info' : p_inf,\n",
        "                         'Locality' : loc_inf,\n",
        "                         'Square Feet' : sqft_inf,\n",
        "                         'Construction Info' : cnstrctn_inf,\n",
        "                         'Price per Sqft' : p_psqf})"
      ],
      "execution_count": 10,
      "outputs": []
    },
    {
      "cell_type": "code",
      "metadata": {
        "id": "K4dzTBUwG0zQ"
      },
      "source": [
        "data"
      ],
      "execution_count": null,
      "outputs": []
    },
    {
      "cell_type": "code",
      "metadata": {
        "id": "jjSuU0jqG3Vj"
      },
      "source": [
        "data.to_csv('Apartment Data.csv',index=False)"
      ],
      "execution_count": 12,
      "outputs": []
    },
    {
      "cell_type": "code",
      "metadata": {
        "id": "tAbs6XKlNXWm",
        "colab": {
          "base_uri": "https://localhost:8080/"
        },
        "outputId": "65a626ae-a176-42c0-c6f2-705a9b41fabf"
      },
      "source": [
        "import time\n",
        "import requests\n",
        "from IPython.display import clear_output\n",
        "\n",
        "base_url = 'https://www.makaan.com/hyderabad-residential-property/buy-property-in-hyderabad-city?page='\n",
        "\n",
        "Own = []\n",
        "Bhk=[]\n",
        "Pr = []\n",
        "Loc=[]\n",
        "Sqft = []\n",
        "Const = []\n",
        "Ppsqft = []\n",
        "\n",
        "for i in range(1,51):\n",
        "\n",
        "  time.sleep(3)\n",
        "  print(f'Going to scrap data from{i} page')\n",
        "  clear_output(wait=True)\n",
        "  url=base_url+str(i)\n",
        "  req=requests.get(url)\n",
        "  soup=BeautifulSoup(req.text,'html')\n",
        "\n",
        "  #owner info\n",
        "  owner_info=soup.findAll('span',attrs={'class' : 'seller-type'}) \n",
        "  for j in owner_info:\n",
        "    Own.append(j.text)\n",
        "\n",
        "  #Bhk info\n",
        "  bhk_inf=soup.findAll('div',attrs={'class' : 'title-line'}) \n",
        "  for j in bhk_inf:\n",
        "    Bhk.append(j.text)\n",
        "\n",
        "  #Price Info\n",
        "  Price=soup.findAll('div',attrs={'data-type' : 'price-link'})\n",
        "  for j in Price:\n",
        "    Pr.append(j.text)\n",
        "\n",
        "  # Locality\n",
        "  Locality=soup.findAll('span',attrs={'itemprop' : 'addressLocality'})\n",
        "  for j in Locality:\n",
        "    Loc.append(j.text)\n",
        "\n",
        "  #Square feet\n",
        "  sqft=soup.findAll('td',attrs={'class' : 'size'})\n",
        "  for j in sqft:\n",
        "    Sqft.append(j.text)\n",
        "\n",
        "  #Construction Info\n",
        "  cnstrctn = soup.findAll('td',attrs={'class' : 'val'})\n",
        "  for j in cnstrctn:\n",
        "    Const.append(j.text)\n",
        "\n",
        "  #Price Per Sqrft\n",
        "  psqft = soup.findAll('td',attrs={'class' : 'lbl rate'})\n",
        "  for j in psqft:\n",
        "    Ppsqft.append(j.text)\n",
        "\n"
      ],
      "execution_count": 13,
      "outputs": [
        {
          "output_type": "stream",
          "text": [
            "Going to scrap data from50 page\n"
          ],
          "name": "stdout"
        }
      ]
    },
    {
      "cell_type": "code",
      "metadata": {
        "id": "F8wlwbQNNXh5"
      },
      "source": [
        "data=pandas.DataFrame({'Owner Info' : Own,\n",
        "                       'No of Bhk' : Bhk,\n",
        "                       'Price Info' : Pr,\n",
        "                       'Locality' : Loc,\n",
        "                       ' Square Feet' : Sqft,\n",
        "                       ' Construction' : Const,\n",
        "                       'Price Per Sqft' : Ppsqft})"
      ],
      "execution_count": 14,
      "outputs": []
    },
    {
      "cell_type": "code",
      "metadata": {
        "id": "fJceAowqNXr1"
      },
      "source": [
        "data.to_csv('Apartments in Hyderabad.csv',index=False)"
      ],
      "execution_count": 15,
      "outputs": []
    },
    {
      "cell_type": "code",
      "metadata": {
        "id": "e9umBYVsNX0-"
      },
      "source": [
        ""
      ],
      "execution_count": 15,
      "outputs": []
    },
    {
      "cell_type": "code",
      "metadata": {
        "id": "aqGsxC9mNX8k"
      },
      "source": [
        ""
      ],
      "execution_count": 15,
      "outputs": []
    },
    {
      "cell_type": "code",
      "metadata": {
        "id": "0OfY86ZGNYC3"
      },
      "source": [
        ""
      ],
      "execution_count": 15,
      "outputs": []
    },
    {
      "cell_type": "code",
      "metadata": {
        "id": "aat6-hpONYFd"
      },
      "source": [
        ""
      ],
      "execution_count": 15,
      "outputs": []
    },
    {
      "cell_type": "code",
      "metadata": {
        "id": "kq6T6a-qNYID"
      },
      "source": [
        ""
      ],
      "execution_count": 15,
      "outputs": []
    },
    {
      "cell_type": "code",
      "metadata": {
        "id": "a5c3eeUeNYKv"
      },
      "source": [
        ""
      ],
      "execution_count": 15,
      "outputs": []
    }
  ]
}